{
  "nbformat": 4,
  "nbformat_minor": 0,
  "metadata": {
    "colab": {
      "provenance": [],
      "collapsed_sections": [],
      "authorship_tag": "ABX9TyN33JupJT121QLCXjVFnsy4",
      "include_colab_link": true
    },
    "kernelspec": {
      "name": "python3",
      "display_name": "Python 3"
    },
    "language_info": {
      "name": "python"
    }
  },
  "cells": [
    {
      "cell_type": "markdown",
      "metadata": {
        "id": "view-in-github",
        "colab_type": "text"
      },
      "source": [
        "<a href=\"https://colab.research.google.com/github/TharaThankachan/Assignment_1_Sep/blob/main/Case_Study_Classification_Loan.ipynb\" target=\"_parent\"><img src=\"https://colab.research.google.com/assets/colab-badge.svg\" alt=\"Open In Colab\"/></a>"
      ]
    },
    {
      "cell_type": "code",
      "execution_count": 1,
      "metadata": {
        "id": "QcLj67YCaYFz"
      },
      "outputs": [],
      "source": [
        "import numpy as np\n",
        "import pandas as pd\n",
        "import seaborn as sns\n",
        "import matplotlib.pyplot as plt\n"
      ]
    },
    {
      "cell_type": "code",
      "source": [
        "df=pd.read_csv('/content/loan_dataset.csv')"
      ],
      "metadata": {
        "id": "ynNBQ5YOa2CA"
      },
      "execution_count": 2,
      "outputs": []
    },
    {
      "cell_type": "code",
      "source": [
        "df.head()"
      ],
      "metadata": {
        "colab": {
          "base_uri": "https://localhost:8080/",
          "height": 334
        },
        "id": "AZQPk1ZCa3ij",
        "outputId": "64d3d691-3297-4904-b9bf-2e59fb7029e6"
      },
      "execution_count": 3,
      "outputs": [
        {
          "output_type": "execute_result",
          "data": {
            "text/plain": [
              "        loan_id source       financial_institution  interest_rate  \\\n",
              "0  268055008619      Z  Turner, Baldwin and Rhodes          4.250   \n",
              "1  672831657627      Y  Swanson, Newton and Miller          4.875   \n",
              "2  742515242108      Z              Thornton-Davis          3.250   \n",
              "3  601385667462      X                       OTHER          4.750   \n",
              "4  273870029961      X                       OTHER          4.750   \n",
              "\n",
              "   unpaid_principal_bal  loan_term origination_date first_payment_date  \\\n",
              "0                214000        360       2012-03-01            05/2012   \n",
              "1                144000        360       2012-01-01            03/2012   \n",
              "2                366000        180       2012-01-01            03/2012   \n",
              "3                135000        360       2012-02-01            04/2012   \n",
              "4                124000        360       2012-02-01            04/2012   \n",
              "\n",
              "   loan_to_value  number_of_borrowers  ...  m4  m5 m6  m7  m8  m9  m10  m11  \\\n",
              "0             95                  1.0  ...   0   0  0   1   0   0    0    0   \n",
              "1             72                  1.0  ...   0   0  0   0   0   0    0    1   \n",
              "2             49                  1.0  ...   0   0  0   0   0   0    0    0   \n",
              "3             46                  2.0  ...   0   0  0   0   0   1    1    1   \n",
              "4             80                  1.0  ...   3   4  5   6   7   8    9   10   \n",
              "\n",
              "   m12  m13  \n",
              "0    0    1  \n",
              "1    0    1  \n",
              "2    0    1  \n",
              "3    1    1  \n",
              "4   11    1  \n",
              "\n",
              "[5 rows x 29 columns]"
            ],
            "text/html": [
              "\n",
              "  <div id=\"df-e73e3f21-edb3-4376-9528-743de28c7a9e\">\n",
              "    <div class=\"colab-df-container\">\n",
              "      <div>\n",
              "<style scoped>\n",
              "    .dataframe tbody tr th:only-of-type {\n",
              "        vertical-align: middle;\n",
              "    }\n",
              "\n",
              "    .dataframe tbody tr th {\n",
              "        vertical-align: top;\n",
              "    }\n",
              "\n",
              "    .dataframe thead th {\n",
              "        text-align: right;\n",
              "    }\n",
              "</style>\n",
              "<table border=\"1\" class=\"dataframe\">\n",
              "  <thead>\n",
              "    <tr style=\"text-align: right;\">\n",
              "      <th></th>\n",
              "      <th>loan_id</th>\n",
              "      <th>source</th>\n",
              "      <th>financial_institution</th>\n",
              "      <th>interest_rate</th>\n",
              "      <th>unpaid_principal_bal</th>\n",
              "      <th>loan_term</th>\n",
              "      <th>origination_date</th>\n",
              "      <th>first_payment_date</th>\n",
              "      <th>loan_to_value</th>\n",
              "      <th>number_of_borrowers</th>\n",
              "      <th>...</th>\n",
              "      <th>m4</th>\n",
              "      <th>m5</th>\n",
              "      <th>m6</th>\n",
              "      <th>m7</th>\n",
              "      <th>m8</th>\n",
              "      <th>m9</th>\n",
              "      <th>m10</th>\n",
              "      <th>m11</th>\n",
              "      <th>m12</th>\n",
              "      <th>m13</th>\n",
              "    </tr>\n",
              "  </thead>\n",
              "  <tbody>\n",
              "    <tr>\n",
              "      <th>0</th>\n",
              "      <td>268055008619</td>\n",
              "      <td>Z</td>\n",
              "      <td>Turner, Baldwin and Rhodes</td>\n",
              "      <td>4.250</td>\n",
              "      <td>214000</td>\n",
              "      <td>360</td>\n",
              "      <td>2012-03-01</td>\n",
              "      <td>05/2012</td>\n",
              "      <td>95</td>\n",
              "      <td>1.0</td>\n",
              "      <td>...</td>\n",
              "      <td>0</td>\n",
              "      <td>0</td>\n",
              "      <td>0</td>\n",
              "      <td>1</td>\n",
              "      <td>0</td>\n",
              "      <td>0</td>\n",
              "      <td>0</td>\n",
              "      <td>0</td>\n",
              "      <td>0</td>\n",
              "      <td>1</td>\n",
              "    </tr>\n",
              "    <tr>\n",
              "      <th>1</th>\n",
              "      <td>672831657627</td>\n",
              "      <td>Y</td>\n",
              "      <td>Swanson, Newton and Miller</td>\n",
              "      <td>4.875</td>\n",
              "      <td>144000</td>\n",
              "      <td>360</td>\n",
              "      <td>2012-01-01</td>\n",
              "      <td>03/2012</td>\n",
              "      <td>72</td>\n",
              "      <td>1.0</td>\n",
              "      <td>...</td>\n",
              "      <td>0</td>\n",
              "      <td>0</td>\n",
              "      <td>0</td>\n",
              "      <td>0</td>\n",
              "      <td>0</td>\n",
              "      <td>0</td>\n",
              "      <td>0</td>\n",
              "      <td>1</td>\n",
              "      <td>0</td>\n",
              "      <td>1</td>\n",
              "    </tr>\n",
              "    <tr>\n",
              "      <th>2</th>\n",
              "      <td>742515242108</td>\n",
              "      <td>Z</td>\n",
              "      <td>Thornton-Davis</td>\n",
              "      <td>3.250</td>\n",
              "      <td>366000</td>\n",
              "      <td>180</td>\n",
              "      <td>2012-01-01</td>\n",
              "      <td>03/2012</td>\n",
              "      <td>49</td>\n",
              "      <td>1.0</td>\n",
              "      <td>...</td>\n",
              "      <td>0</td>\n",
              "      <td>0</td>\n",
              "      <td>0</td>\n",
              "      <td>0</td>\n",
              "      <td>0</td>\n",
              "      <td>0</td>\n",
              "      <td>0</td>\n",
              "      <td>0</td>\n",
              "      <td>0</td>\n",
              "      <td>1</td>\n",
              "    </tr>\n",
              "    <tr>\n",
              "      <th>3</th>\n",
              "      <td>601385667462</td>\n",
              "      <td>X</td>\n",
              "      <td>OTHER</td>\n",
              "      <td>4.750</td>\n",
              "      <td>135000</td>\n",
              "      <td>360</td>\n",
              "      <td>2012-02-01</td>\n",
              "      <td>04/2012</td>\n",
              "      <td>46</td>\n",
              "      <td>2.0</td>\n",
              "      <td>...</td>\n",
              "      <td>0</td>\n",
              "      <td>0</td>\n",
              "      <td>0</td>\n",
              "      <td>0</td>\n",
              "      <td>0</td>\n",
              "      <td>1</td>\n",
              "      <td>1</td>\n",
              "      <td>1</td>\n",
              "      <td>1</td>\n",
              "      <td>1</td>\n",
              "    </tr>\n",
              "    <tr>\n",
              "      <th>4</th>\n",
              "      <td>273870029961</td>\n",
              "      <td>X</td>\n",
              "      <td>OTHER</td>\n",
              "      <td>4.750</td>\n",
              "      <td>124000</td>\n",
              "      <td>360</td>\n",
              "      <td>2012-02-01</td>\n",
              "      <td>04/2012</td>\n",
              "      <td>80</td>\n",
              "      <td>1.0</td>\n",
              "      <td>...</td>\n",
              "      <td>3</td>\n",
              "      <td>4</td>\n",
              "      <td>5</td>\n",
              "      <td>6</td>\n",
              "      <td>7</td>\n",
              "      <td>8</td>\n",
              "      <td>9</td>\n",
              "      <td>10</td>\n",
              "      <td>11</td>\n",
              "      <td>1</td>\n",
              "    </tr>\n",
              "  </tbody>\n",
              "</table>\n",
              "<p>5 rows × 29 columns</p>\n",
              "</div>\n",
              "      <button class=\"colab-df-convert\" onclick=\"convertToInteractive('df-e73e3f21-edb3-4376-9528-743de28c7a9e')\"\n",
              "              title=\"Convert this dataframe to an interactive table.\"\n",
              "              style=\"display:none;\">\n",
              "        \n",
              "  <svg xmlns=\"http://www.w3.org/2000/svg\" height=\"24px\"viewBox=\"0 0 24 24\"\n",
              "       width=\"24px\">\n",
              "    <path d=\"M0 0h24v24H0V0z\" fill=\"none\"/>\n",
              "    <path d=\"M18.56 5.44l.94 2.06.94-2.06 2.06-.94-2.06-.94-.94-2.06-.94 2.06-2.06.94zm-11 1L8.5 8.5l.94-2.06 2.06-.94-2.06-.94L8.5 2.5l-.94 2.06-2.06.94zm10 10l.94 2.06.94-2.06 2.06-.94-2.06-.94-.94-2.06-.94 2.06-2.06.94z\"/><path d=\"M17.41 7.96l-1.37-1.37c-.4-.4-.92-.59-1.43-.59-.52 0-1.04.2-1.43.59L10.3 9.45l-7.72 7.72c-.78.78-.78 2.05 0 2.83L4 21.41c.39.39.9.59 1.41.59.51 0 1.02-.2 1.41-.59l7.78-7.78 2.81-2.81c.8-.78.8-2.07 0-2.86zM5.41 20L4 18.59l7.72-7.72 1.47 1.35L5.41 20z\"/>\n",
              "  </svg>\n",
              "      </button>\n",
              "      \n",
              "  <style>\n",
              "    .colab-df-container {\n",
              "      display:flex;\n",
              "      flex-wrap:wrap;\n",
              "      gap: 12px;\n",
              "    }\n",
              "\n",
              "    .colab-df-convert {\n",
              "      background-color: #E8F0FE;\n",
              "      border: none;\n",
              "      border-radius: 50%;\n",
              "      cursor: pointer;\n",
              "      display: none;\n",
              "      fill: #1967D2;\n",
              "      height: 32px;\n",
              "      padding: 0 0 0 0;\n",
              "      width: 32px;\n",
              "    }\n",
              "\n",
              "    .colab-df-convert:hover {\n",
              "      background-color: #E2EBFA;\n",
              "      box-shadow: 0px 1px 2px rgba(60, 64, 67, 0.3), 0px 1px 3px 1px rgba(60, 64, 67, 0.15);\n",
              "      fill: #174EA6;\n",
              "    }\n",
              "\n",
              "    [theme=dark] .colab-df-convert {\n",
              "      background-color: #3B4455;\n",
              "      fill: #D2E3FC;\n",
              "    }\n",
              "\n",
              "    [theme=dark] .colab-df-convert:hover {\n",
              "      background-color: #434B5C;\n",
              "      box-shadow: 0px 1px 3px 1px rgba(0, 0, 0, 0.15);\n",
              "      filter: drop-shadow(0px 1px 2px rgba(0, 0, 0, 0.3));\n",
              "      fill: #FFFFFF;\n",
              "    }\n",
              "  </style>\n",
              "\n",
              "      <script>\n",
              "        const buttonEl =\n",
              "          document.querySelector('#df-e73e3f21-edb3-4376-9528-743de28c7a9e button.colab-df-convert');\n",
              "        buttonEl.style.display =\n",
              "          google.colab.kernel.accessAllowed ? 'block' : 'none';\n",
              "\n",
              "        async function convertToInteractive(key) {\n",
              "          const element = document.querySelector('#df-e73e3f21-edb3-4376-9528-743de28c7a9e');\n",
              "          const dataTable =\n",
              "            await google.colab.kernel.invokeFunction('convertToInteractive',\n",
              "                                                     [key], {});\n",
              "          if (!dataTable) return;\n",
              "\n",
              "          const docLinkHtml = 'Like what you see? Visit the ' +\n",
              "            '<a target=\"_blank\" href=https://colab.research.google.com/notebooks/data_table.ipynb>data table notebook</a>'\n",
              "            + ' to learn more about interactive tables.';\n",
              "          element.innerHTML = '';\n",
              "          dataTable['output_type'] = 'display_data';\n",
              "          await google.colab.output.renderOutput(dataTable, element);\n",
              "          const docLink = document.createElement('div');\n",
              "          docLink.innerHTML = docLinkHtml;\n",
              "          element.appendChild(docLink);\n",
              "        }\n",
              "      </script>\n",
              "    </div>\n",
              "  </div>\n",
              "  "
            ]
          },
          "metadata": {},
          "execution_count": 3
        }
      ]
    },
    {
      "cell_type": "code",
      "source": [
        "df.dtypes"
      ],
      "metadata": {
        "colab": {
          "base_uri": "https://localhost:8080/"
        },
        "id": "ep-GFyfYa57T",
        "outputId": "478a5ccc-df6e-494a-a5ec-74be41e5bda7"
      },
      "execution_count": 4,
      "outputs": [
        {
          "output_type": "execute_result",
          "data": {
            "text/plain": [
              "loan_id                       int64\n",
              "source                       object\n",
              "financial_institution        object\n",
              "interest_rate               float64\n",
              "unpaid_principal_bal          int64\n",
              "loan_term                     int64\n",
              "origination_date             object\n",
              "first_payment_date           object\n",
              "loan_to_value                 int64\n",
              "number_of_borrowers         float64\n",
              "debt_to_income_ratio        float64\n",
              "borrower_credit_score       float64\n",
              "loan_purpose                 object\n",
              "insurance_percent           float64\n",
              "co-borrower_credit_score    float64\n",
              "insurance_type              float64\n",
              "m1                            int64\n",
              "m2                            int64\n",
              "m3                            int64\n",
              "m4                            int64\n",
              "m5                            int64\n",
              "m6                            int64\n",
              "m7                            int64\n",
              "m8                            int64\n",
              "m9                            int64\n",
              "m10                           int64\n",
              "m11                           int64\n",
              "m12                           int64\n",
              "m13                           int64\n",
              "dtype: object"
            ]
          },
          "metadata": {},
          "execution_count": 4
        }
      ]
    },
    {
      "cell_type": "code",
      "source": [
        "df.drop(['m1','m2','m3','m4','m5','m6','m7','m8','m9','m10','m11','m12'],axis=1,inplace=True)"
      ],
      "metadata": {
        "id": "OM70rgv-bA3j"
      },
      "execution_count": 5,
      "outputs": []
    },
    {
      "cell_type": "code",
      "source": [
        "df.drop(['source','financial_institution'],axis=1,inplace=True)"
      ],
      "metadata": {
        "id": "W0VR7WgYbQQx"
      },
      "execution_count": 6,
      "outputs": []
    },
    {
      "cell_type": "code",
      "source": [
        "df.dtypes"
      ],
      "metadata": {
        "colab": {
          "base_uri": "https://localhost:8080/"
        },
        "id": "MDNIOuNUbXhF",
        "outputId": "cc909160-5d13-4353-eda6-de11dee500a5"
      },
      "execution_count": 7,
      "outputs": [
        {
          "output_type": "execute_result",
          "data": {
            "text/plain": [
              "loan_id                       int64\n",
              "interest_rate               float64\n",
              "unpaid_principal_bal          int64\n",
              "loan_term                     int64\n",
              "origination_date             object\n",
              "first_payment_date           object\n",
              "loan_to_value                 int64\n",
              "number_of_borrowers         float64\n",
              "debt_to_income_ratio        float64\n",
              "borrower_credit_score       float64\n",
              "loan_purpose                 object\n",
              "insurance_percent           float64\n",
              "co-borrower_credit_score    float64\n",
              "insurance_type              float64\n",
              "m13                           int64\n",
              "dtype: object"
            ]
          },
          "metadata": {},
          "execution_count": 7
        }
      ]
    },
    {
      "cell_type": "code",
      "source": [
        "df['origination_date'].nunique()"
      ],
      "metadata": {
        "colab": {
          "base_uri": "https://localhost:8080/"
        },
        "id": "_c1YYd4tbmNT",
        "outputId": "ae6accbd-4372-4e56-c318-a18c4caea7c6"
      },
      "execution_count": 8,
      "outputs": [
        {
          "output_type": "execute_result",
          "data": {
            "text/plain": [
              "3"
            ]
          },
          "metadata": {},
          "execution_count": 8
        }
      ]
    },
    {
      "cell_type": "code",
      "source": [
        "df.origination_date.unique()"
      ],
      "metadata": {
        "colab": {
          "base_uri": "https://localhost:8080/"
        },
        "id": "kc3_xgILbmyc",
        "outputId": "3b4fd787-766e-44fa-9d3f-5e3192e910f4"
      },
      "execution_count": 9,
      "outputs": [
        {
          "output_type": "execute_result",
          "data": {
            "text/plain": [
              "array(['2012-03-01', '2012-01-01', '2012-02-01'], dtype=object)"
            ]
          },
          "metadata": {},
          "execution_count": 9
        }
      ]
    },
    {
      "cell_type": "code",
      "source": [
        "# Label encoding for origination date"
      ],
      "metadata": {
        "id": "RKe0RNk0bqhC"
      },
      "execution_count": 10,
      "outputs": []
    },
    {
      "cell_type": "code",
      "source": [
        "from sklearn.preprocessing import LabelEncoder\n",
        "le=LabelEncoder()"
      ],
      "metadata": {
        "id": "bxdF65zgbv2C"
      },
      "execution_count": 11,
      "outputs": []
    },
    {
      "cell_type": "code",
      "source": [
        "df['origination_date']=le.fit_transform(df['origination_date'])\n",
        "df['first_payment_date']=le.fit_transform(df['first_payment_date'])"
      ],
      "metadata": {
        "id": "c22c5JIbb0X9"
      },
      "execution_count": 12,
      "outputs": []
    },
    {
      "cell_type": "code",
      "source": [
        "df.dtypes"
      ],
      "metadata": {
        "colab": {
          "base_uri": "https://localhost:8080/"
        },
        "id": "a7f9LOG7cFew",
        "outputId": "0060b9cd-0d30-443b-9981-9d96df2d4dab"
      },
      "execution_count": 13,
      "outputs": [
        {
          "output_type": "execute_result",
          "data": {
            "text/plain": [
              "loan_id                       int64\n",
              "interest_rate               float64\n",
              "unpaid_principal_bal          int64\n",
              "loan_term                     int64\n",
              "origination_date              int64\n",
              "first_payment_date            int64\n",
              "loan_to_value                 int64\n",
              "number_of_borrowers         float64\n",
              "debt_to_income_ratio        float64\n",
              "borrower_credit_score       float64\n",
              "loan_purpose                 object\n",
              "insurance_percent           float64\n",
              "co-borrower_credit_score    float64\n",
              "insurance_type              float64\n",
              "m13                           int64\n",
              "dtype: object"
            ]
          },
          "metadata": {},
          "execution_count": 13
        }
      ]
    },
    {
      "cell_type": "code",
      "source": [
        "# extracting numbers from loan purpose"
      ],
      "metadata": {
        "id": "oDVCk7WkcGsY"
      },
      "execution_count": null,
      "outputs": []
    },
    {
      "cell_type": "code",
      "source": [
        "df['loan_purpose']=df.loan_purpose.str.extract('(\\d+)')"
      ],
      "metadata": {
        "id": "aP0_8s6vcOz9"
      },
      "execution_count": 14,
      "outputs": []
    },
    {
      "cell_type": "code",
      "source": [
        "df.dtypes"
      ],
      "metadata": {
        "colab": {
          "base_uri": "https://localhost:8080/"
        },
        "id": "wUSA0gFmcn8u",
        "outputId": "ef1d78ec-ea38-40c5-ae73-4e2f31c3c4d2"
      },
      "execution_count": 17,
      "outputs": [
        {
          "output_type": "execute_result",
          "data": {
            "text/plain": [
              "loan_id                       int64\n",
              "interest_rate               float64\n",
              "unpaid_principal_bal          int64\n",
              "loan_term                     int64\n",
              "origination_date              int64\n",
              "first_payment_date            int64\n",
              "loan_to_value                 int64\n",
              "number_of_borrowers         float64\n",
              "debt_to_income_ratio        float64\n",
              "borrower_credit_score       float64\n",
              "loan_purpose                 object\n",
              "insurance_percent           float64\n",
              "co-borrower_credit_score    float64\n",
              "insurance_type              float64\n",
              "m13                           int64\n",
              "dtype: object"
            ]
          },
          "metadata": {},
          "execution_count": 17
        }
      ]
    },
    {
      "cell_type": "code",
      "source": [
        "df.isna().sum()"
      ],
      "metadata": {
        "colab": {
          "base_uri": "https://localhost:8080/"
        },
        "id": "KowFZ_eccUw6",
        "outputId": "c2466886-edd0-42b2-b32c-bd64bd577223"
      },
      "execution_count": 16,
      "outputs": [
        {
          "output_type": "execute_result",
          "data": {
            "text/plain": [
              "loan_id                     0\n",
              "interest_rate               0\n",
              "unpaid_principal_bal        0\n",
              "loan_term                   0\n",
              "origination_date            0\n",
              "first_payment_date          0\n",
              "loan_to_value               0\n",
              "number_of_borrowers         0\n",
              "debt_to_income_ratio        0\n",
              "borrower_credit_score       0\n",
              "loan_purpose                0\n",
              "insurance_percent           0\n",
              "co-borrower_credit_score    0\n",
              "insurance_type              0\n",
              "m13                         0\n",
              "dtype: int64"
            ]
          },
          "metadata": {},
          "execution_count": 16
        }
      ]
    },
    {
      "cell_type": "code",
      "source": [
        "df['loan_purpose']=df['loan_purpose'].astype('int')"
      ],
      "metadata": {
        "id": "8wh6AuCQcslY"
      },
      "execution_count": 18,
      "outputs": []
    },
    {
      "cell_type": "code",
      "source": [
        "df.dtypes"
      ],
      "metadata": {
        "colab": {
          "base_uri": "https://localhost:8080/"
        },
        "id": "yI3WDtu-cezE",
        "outputId": "2e163b3f-ea50-4729-d08c-ffbd7eb10b0a"
      },
      "execution_count": 19,
      "outputs": [
        {
          "output_type": "execute_result",
          "data": {
            "text/plain": [
              "loan_id                       int64\n",
              "interest_rate               float64\n",
              "unpaid_principal_bal          int64\n",
              "loan_term                     int64\n",
              "origination_date              int64\n",
              "first_payment_date            int64\n",
              "loan_to_value                 int64\n",
              "number_of_borrowers         float64\n",
              "debt_to_income_ratio        float64\n",
              "borrower_credit_score       float64\n",
              "loan_purpose                  int64\n",
              "insurance_percent           float64\n",
              "co-borrower_credit_score    float64\n",
              "insurance_type              float64\n",
              "m13                           int64\n",
              "dtype: object"
            ]
          },
          "metadata": {},
          "execution_count": 19
        }
      ]
    },
    {
      "cell_type": "code",
      "source": [
        "# Target=m13"
      ],
      "metadata": {
        "id": "aNR26hA6kv7w"
      },
      "execution_count": null,
      "outputs": []
    },
    {
      "cell_type": "code",
      "source": [
        "y=df['m13']\n",
        "x=df.drop('m13',axis=1)"
      ],
      "metadata": {
        "id": "97cqNntCc2Dh"
      },
      "execution_count": 20,
      "outputs": []
    },
    {
      "cell_type": "code",
      "source": [
        "# Logistic Regression"
      ],
      "metadata": {
        "id": "9dvyrRfWk4BH"
      },
      "execution_count": null,
      "outputs": []
    },
    {
      "cell_type": "code",
      "source": [
        "from sklearn.model_selection import train_test_split\n",
        "x_train,x_test,y_train,y_test=train_test_split(x,y,test_size=0.2,random_state=42)"
      ],
      "metadata": {
        "id": "plYXOBjec_go"
      },
      "execution_count": 21,
      "outputs": []
    },
    {
      "cell_type": "code",
      "source": [
        "from sklearn.linear_model import LogisticRegression\n",
        "lr=LogisticRegression()"
      ],
      "metadata": {
        "id": "m0qnU1MCdDdj"
      },
      "execution_count": 22,
      "outputs": []
    },
    {
      "cell_type": "code",
      "source": [
        "lr=lr.fit(x_train,y_train)\n",
        "lr_y_predict=lr.predict(x_test)"
      ],
      "metadata": {
        "id": "9Q8ITmCedh7p"
      },
      "execution_count": null,
      "outputs": []
    },
    {
      "cell_type": "code",
      "source": [
        "from sklearn.metrics import confusion_matrix,accuracy_score,precision_score,recall_score"
      ],
      "metadata": {
        "id": "S6ZeZm7cd4Sa"
      },
      "execution_count": 24,
      "outputs": []
    },
    {
      "cell_type": "code",
      "source": [
        "print(\"Confusion Metrix:\",confusion_matrix(y_test,lr_y_predict))"
      ],
      "metadata": {
        "colab": {
          "base_uri": "https://localhost:8080/"
        },
        "id": "MYlcO-5LeJvU",
        "outputId": "21947d40-bfb8-4f3e-9bca-9cd60dfd5ae1"
      },
      "execution_count": 25,
      "outputs": [
        {
          "output_type": "stream",
          "name": "stdout",
          "text": [
            "Confusion Metrix: [[23084     0]\n",
            " [  128     0]]\n"
          ]
        }
      ]
    },
    {
      "cell_type": "code",
      "source": [
        "print(\"Accuracy Score:\",accuracy_score(y_test,lr_y_predict))"
      ],
      "metadata": {
        "colab": {
          "base_uri": "https://localhost:8080/"
        },
        "id": "43YCu7TdeYTd",
        "outputId": "7d207b05-6c4e-485c-e550-cccaa4245fc2"
      },
      "execution_count": 26,
      "outputs": [
        {
          "output_type": "stream",
          "name": "stdout",
          "text": [
            "Accuracy Score: 0.9944856108909185\n"
          ]
        }
      ]
    },
    {
      "cell_type": "code",
      "source": [
        "print(\"Precision score:\",precision_score(y_test,lr_y_predict))"
      ],
      "metadata": {
        "colab": {
          "base_uri": "https://localhost:8080/"
        },
        "id": "-E9B3x7Xej6E",
        "outputId": "72a69117-7f22-4a93-f74b-eb899e413f2b"
      },
      "execution_count": 27,
      "outputs": [
        {
          "output_type": "stream",
          "name": "stdout",
          "text": [
            "Precision score: 0.0\n"
          ]
        },
        {
          "output_type": "stream",
          "name": "stderr",
          "text": [
            "/usr/local/lib/python3.7/dist-packages/sklearn/metrics/_classification.py:1318: UndefinedMetricWarning: Precision is ill-defined and being set to 0.0 due to no predicted samples. Use `zero_division` parameter to control this behavior.\n",
            "  _warn_prf(average, modifier, msg_start, len(result))\n"
          ]
        }
      ]
    },
    {
      "cell_type": "code",
      "source": [
        "print(\"Recall Value:\",recall_score(y_test,lr_y_predict))"
      ],
      "metadata": {
        "colab": {
          "base_uri": "https://localhost:8080/"
        },
        "id": "agiW2QJ7eyDY",
        "outputId": "f1973d15-afdb-4c88-959c-cddcce9a7e9b"
      },
      "execution_count": 28,
      "outputs": [
        {
          "output_type": "stream",
          "name": "stdout",
          "text": [
            "Recall Value: 0.0\n"
          ]
        }
      ]
    },
    {
      "cell_type": "code",
      "source": [
        "from sklearn.metrics import classification_report\n",
        "print(classification_report(y_test,lr_y_predict))"
      ],
      "metadata": {
        "colab": {
          "base_uri": "https://localhost:8080/"
        },
        "id": "n-5gtxq-e7FH",
        "outputId": "2d818599-bbd8-4466-ef91-1a586643f666"
      },
      "execution_count": 29,
      "outputs": [
        {
          "output_type": "stream",
          "name": "stdout",
          "text": [
            "              precision    recall  f1-score   support\n",
            "\n",
            "           0       0.99      1.00      1.00     23084\n",
            "           1       0.00      0.00      0.00       128\n",
            "\n",
            "    accuracy                           0.99     23212\n",
            "   macro avg       0.50      0.50      0.50     23212\n",
            "weighted avg       0.99      0.99      0.99     23212\n",
            "\n"
          ]
        },
        {
          "output_type": "stream",
          "name": "stderr",
          "text": [
            "/usr/local/lib/python3.7/dist-packages/sklearn/metrics/_classification.py:1318: UndefinedMetricWarning: Precision and F-score are ill-defined and being set to 0.0 in labels with no predicted samples. Use `zero_division` parameter to control this behavior.\n",
            "  _warn_prf(average, modifier, msg_start, len(result))\n",
            "/usr/local/lib/python3.7/dist-packages/sklearn/metrics/_classification.py:1318: UndefinedMetricWarning: Precision and F-score are ill-defined and being set to 0.0 in labels with no predicted samples. Use `zero_division` parameter to control this behavior.\n",
            "  _warn_prf(average, modifier, msg_start, len(result))\n",
            "/usr/local/lib/python3.7/dist-packages/sklearn/metrics/_classification.py:1318: UndefinedMetricWarning: Precision and F-score are ill-defined and being set to 0.0 in labels with no predicted samples. Use `zero_division` parameter to control this behavior.\n",
            "  _warn_prf(average, modifier, msg_start, len(result))\n"
          ]
        }
      ]
    },
    {
      "cell_type": "code",
      "source": [
        "# KNN"
      ],
      "metadata": {
        "id": "5z31dt_6lAe4"
      },
      "execution_count": null,
      "outputs": []
    },
    {
      "cell_type": "code",
      "source": [],
      "metadata": {
        "id": "_JcN7FtmfGMy"
      },
      "execution_count": 31,
      "outputs": []
    },
    {
      "cell_type": "code",
      "source": [
        "from sklearn.model_selection import train_test_split\n",
        "x_train,x_test,y_train,y_test=train_test_split(x,y,test_size=0.2,random_state=42)"
      ],
      "metadata": {
        "id": "o33uHKOcfOGQ"
      },
      "execution_count": 32,
      "outputs": []
    },
    {
      "cell_type": "code",
      "source": [
        "from sklearn.neighbors import KNeighborsClassifier\n",
        "from sklearn import neighbors"
      ],
      "metadata": {
        "id": "TlX3w3RbftaN"
      },
      "execution_count": 33,
      "outputs": []
    },
    {
      "cell_type": "code",
      "source": [
        "knn=[]\n",
        "neighbors=range(3,15)\n",
        "for k in neighbors:\n",
        " knn_clf=KNeighborsClassifier(n_neighbors=k)\n",
        " knn_clf=knn_clf.fit(x_train,y_train)\n",
        " knn_y_prediction=knn_clf.predict(x_test)\n",
        " accuracy=accuracy_score(y_test,knn_y_prediction)\n",
        " knn.append(accuracy)\n",
        "knn"
      ],
      "metadata": {
        "colab": {
          "base_uri": "https://localhost:8080/"
        },
        "id": "Ce5h5-6_f8pb",
        "outputId": "872941e0-9061-4207-ada1-29ade628f172"
      },
      "execution_count": 34,
      "outputs": [
        {
          "output_type": "execute_result",
          "data": {
            "text/plain": [
              "[0.9943994485610891,\n",
              " 0.9944856108909185,\n",
              " 0.9944856108909185,\n",
              " 0.9944856108909185,\n",
              " 0.9944856108909185,\n",
              " 0.9944856108909185,\n",
              " 0.9944856108909185,\n",
              " 0.9944856108909185,\n",
              " 0.9944856108909185,\n",
              " 0.9944856108909185,\n",
              " 0.9944856108909185,\n",
              " 0.9944856108909185]"
            ]
          },
          "metadata": {},
          "execution_count": 34
        }
      ]
    },
    {
      "cell_type": "code",
      "source": [
        "plt.plot(neighbors, knn,'o-')\n",
        "plt.xlabel=('K values')\n",
        "plt.ylabel('Accuracy')\n",
        "plt.grid()"
      ],
      "metadata": {
        "colab": {
          "base_uri": "https://localhost:8080/",
          "height": 276
        },
        "id": "agd01TgAgFvZ",
        "outputId": "6dd9fc5d-1818-498e-c60a-56088dabc42c"
      },
      "execution_count": 35,
      "outputs": [
        {
          "output_type": "display_data",
          "data": {
            "text/plain": [
              "<Figure size 432x288 with 1 Axes>"
            ],
            "image/png": "[encoded data removed]"
          },
          "metadata": {
            "needs_background": "light"
          }
        }
      ]
    },
    {
      "cell_type": "code",
      "source": [
        "knn_clf1=KNeighborsClassifier(n_neighbors=14)\n",
        "knn_clf1=knn_clf1.fit(x_train,y_train)\n",
        "knn_y_prediction=knn_clf1.predict(x_test)\n",
        "accuracy1=accuracy_score(y_test,knn_y_prediction)\n",
        "print(\"Accuracy:\",accuracy_score(y_test,knn_y_prediction))\n"
      ],
      "metadata": {
        "colab": {
          "base_uri": "https://localhost:8080/"
        },
        "id": "j4d-dfI-gSQ0",
        "outputId": "8984620f-4a73-49bd-8c4e-3862edaa42ee"
      },
      "execution_count": 39,
      "outputs": [
        {
          "output_type": "stream",
          "name": "stdout",
          "text": [
            "Accuracy: 0.9944856108909185\n"
          ]
        }
      ]
    },
    {
      "cell_type": "code",
      "source": [
        "print(\"Confusion Matrix:\",confusion_matrix(y_test,knn_y_prediction))"
      ],
      "metadata": {
        "colab": {
          "base_uri": "https://localhost:8080/"
        },
        "id": "ShsP1ZO8hFFb",
        "outputId": "a7d49d55-071a-4d23-bc5d-964166871496"
      },
      "execution_count": 41,
      "outputs": [
        {
          "output_type": "stream",
          "name": "stdout",
          "text": [
            "Confusion Matrix: [[23084     0]\n",
            " [  128     0]]\n"
          ]
        }
      ]
    },
    {
      "cell_type": "code",
      "source": [
        "print(\"Precision Value:\",precision_score(y_test,knn_y_prediction))"
      ],
      "metadata": {
        "colab": {
          "base_uri": "https://localhost:8080/"
        },
        "id": "BbaLSYj7hY63",
        "outputId": "6eb07552-f9c6-4baf-8012-f2b132ccdace"
      },
      "execution_count": 42,
      "outputs": [
        {
          "output_type": "stream",
          "name": "stdout",
          "text": [
            "Precision Value: 0.0\n"
          ]
        },
        {
          "output_type": "stream",
          "name": "stderr",
          "text": [
            "/usr/local/lib/python3.7/dist-packages/sklearn/metrics/_classification.py:1318: UndefinedMetricWarning: Precision is ill-defined and being set to 0.0 due to no predicted samples. Use `zero_division` parameter to control this behavior.\n",
            "  _warn_prf(average, modifier, msg_start, len(result))\n"
          ]
        }
      ]
    },
    {
      "cell_type": "code",
      "source": [
        "print('Recall Value:',recall_score(y_test,knn_y_prediction))"
      ],
      "metadata": {
        "colab": {
          "base_uri": "https://localhost:8080/"
        },
        "id": "Ky42RTuxhsC3",
        "outputId": "a2bfa9b9-b229-41a7-a981-11e450a2cd91"
      },
      "execution_count": 43,
      "outputs": [
        {
          "output_type": "stream",
          "name": "stdout",
          "text": [
            "Recall Value: 0.0\n"
          ]
        }
      ]
    },
    {
      "cell_type": "code",
      "source": [
        "print(classification_report(y_test,knn_y_prediction))"
      ],
      "metadata": {
        "colab": {
          "base_uri": "https://localhost:8080/"
        },
        "id": "seHbMaidh6E1",
        "outputId": "c52accc1-5103-4aa5-bb50-5ba792bf4e0d"
      },
      "execution_count": 49,
      "outputs": [
        {
          "output_type": "stream",
          "name": "stdout",
          "text": [
            "              precision    recall  f1-score   support\n",
            "\n",
            "           0       0.99      1.00      1.00     23084\n",
            "           1       0.00      0.00      0.00       128\n",
            "\n",
            "    accuracy                           0.99     23212\n",
            "   macro avg       0.50      0.50      0.50     23212\n",
            "weighted avg       0.99      0.99      0.99     23212\n",
            "\n"
          ]
        },
        {
          "output_type": "stream",
          "name": "stderr",
          "text": [
            "/usr/local/lib/python3.7/dist-packages/sklearn/metrics/_classification.py:1318: UndefinedMetricWarning: Precision and F-score are ill-defined and being set to 0.0 in labels with no predicted samples. Use `zero_division` parameter to control this behavior.\n",
            "  _warn_prf(average, modifier, msg_start, len(result))\n",
            "/usr/local/lib/python3.7/dist-packages/sklearn/metrics/_classification.py:1318: UndefinedMetricWarning: Precision and F-score are ill-defined and being set to 0.0 in labels with no predicted samples. Use `zero_division` parameter to control this behavior.\n",
            "  _warn_prf(average, modifier, msg_start, len(result))\n",
            "/usr/local/lib/python3.7/dist-packages/sklearn/metrics/_classification.py:1318: UndefinedMetricWarning: Precision and F-score are ill-defined and being set to 0.0 in labels with no predicted samples. Use `zero_division` parameter to control this behavior.\n",
            "  _warn_prf(average, modifier, msg_start, len(result))\n"
          ]
        }
      ]
    },
    {
      "cell_type": "code",
      "source": [
        "# Random Forest Classifier"
      ],
      "metadata": {
        "id": "Oeq8G9RzlJv7"
      },
      "execution_count": null,
      "outputs": []
    },
    {
      "cell_type": "code",
      "source": [
        "from sklearn.model_selection import train_test_split\n",
        "x_train,x_test,y_train,y_test=train_test_split(x,y,test_size=0.2,random_state=42)"
      ],
      "metadata": {
        "id": "v40m84xRh9I8"
      },
      "execution_count": 45,
      "outputs": []
    },
    {
      "cell_type": "code",
      "source": [
        "from sklearn.ensemble import RandomForestClassifier"
      ],
      "metadata": {
        "id": "iqpt28_TiIA3"
      },
      "execution_count": 46,
      "outputs": []
    },
    {
      "cell_type": "code",
      "source": [
        "rfc=RandomForestClassifier()"
      ],
      "metadata": {
        "id": "SdtREJrzip_U"
      },
      "execution_count": 47,
      "outputs": []
    },
    {
      "cell_type": "code",
      "source": [
        "rfc=rfc.fit(x_train,y_train)\n",
        "rfc_y_predict=rfc.predict(x_test)"
      ],
      "metadata": {
        "id": "tQYGhp1Iiufz"
      },
      "execution_count": 48,
      "outputs": []
    },
    {
      "cell_type": "code",
      "source": [
        "print(\"Confusion Matrix:\",confusion_matrix(y_test,rfc_y_predict))"
      ],
      "metadata": {
        "colab": {
          "base_uri": "https://localhost:8080/"
        },
        "id": "ry7xyAhijBzu",
        "outputId": "c53a5dfb-fcd5-4b4a-fa82-c5575a595f3e"
      },
      "execution_count": 51,
      "outputs": [
        {
          "output_type": "stream",
          "name": "stdout",
          "text": [
            "Confusion Matrix: [[23084     0]\n",
            " [  128     0]]\n"
          ]
        }
      ]
    },
    {
      "cell_type": "code",
      "source": [
        "print(\"Accuracy Score:\",accuracy_score(y_test,rfc_y_predict))"
      ],
      "metadata": {
        "colab": {
          "base_uri": "https://localhost:8080/"
        },
        "id": "WY5Qmmlaj7dI",
        "outputId": "d846bb6d-8578-4e01-e340-ff76eecdabe3"
      },
      "execution_count": 52,
      "outputs": [
        {
          "output_type": "stream",
          "name": "stdout",
          "text": [
            "Accuracy Score: 0.9944856108909185\n"
          ]
        }
      ]
    },
    {
      "cell_type": "code",
      "source": [
        "print(\"Precision Score:\",precision_score(y_test,rfc_y_predict))"
      ],
      "metadata": {
        "colab": {
          "base_uri": "https://localhost:8080/"
        },
        "id": "3hd0UMeCkKNZ",
        "outputId": "dcd4fa83-7943-49b1-b951-50671ceb60dd"
      },
      "execution_count": 55,
      "outputs": [
        {
          "output_type": "stream",
          "name": "stdout",
          "text": [
            "Precision Score: 0.0\n"
          ]
        },
        {
          "output_type": "stream",
          "name": "stderr",
          "text": [
            "/usr/local/lib/python3.7/dist-packages/sklearn/metrics/_classification.py:1318: UndefinedMetricWarning: Precision is ill-defined and being set to 0.0 due to no predicted samples. Use `zero_division` parameter to control this behavior.\n",
            "  _warn_prf(average, modifier, msg_start, len(result))\n"
          ]
        }
      ]
    },
    {
      "cell_type": "code",
      "source": [
        "print(classification_report(y_test,rfc_y_predict))"
      ],
      "metadata": {
        "colab": {
          "base_uri": "https://localhost:8080/"
        },
        "id": "LxguFWDGkU7Z",
        "outputId": "9594f49d-489f-4c57-9caf-a8b65ae8c997"
      },
      "execution_count": 56,
      "outputs": [
        {
          "output_type": "stream",
          "name": "stdout",
          "text": [
            "              precision    recall  f1-score   support\n",
            "\n",
            "           0       0.99      1.00      1.00     23084\n",
            "           1       0.00      0.00      0.00       128\n",
            "\n",
            "    accuracy                           0.99     23212\n",
            "   macro avg       0.50      0.50      0.50     23212\n",
            "weighted avg       0.99      0.99      0.99     23212\n",
            "\n"
          ]
        },
        {
          "output_type": "stream",
          "name": "stderr",
          "text": [
            "/usr/local/lib/python3.7/dist-packages/sklearn/metrics/_classification.py:1318: UndefinedMetricWarning: Precision and F-score are ill-defined and being set to 0.0 in labels with no predicted samples. Use `zero_division` parameter to control this behavior.\n",
            "  _warn_prf(average, modifier, msg_start, len(result))\n",
            "/usr/local/lib/python3.7/dist-packages/sklearn/metrics/_classification.py:1318: UndefinedMetricWarning: Precision and F-score are ill-defined and being set to 0.0 in labels with no predicted samples. Use `zero_division` parameter to control this behavior.\n",
            "  _warn_prf(average, modifier, msg_start, len(result))\n",
            "/usr/local/lib/python3.7/dist-packages/sklearn/metrics/_classification.py:1318: UndefinedMetricWarning: Precision and F-score are ill-defined and being set to 0.0 in labels with no predicted samples. Use `zero_division` parameter to control this behavior.\n",
            "  _warn_prf(average, modifier, msg_start, len(result))\n"
          ]
        }
      ]
    },
    {
      "cell_type": "code",
      "source": [
        "#decision Tree"
      ],
      "metadata": {
        "id": "JDnOyKCknF96"
      },
      "execution_count": 57,
      "outputs": []
    },
    {
      "cell_type": "code",
      "source": [
        "from sklearn.model_selection import train_test_split\n",
        "x_train,x_test,y_train,y_test=train_test_split(x,y,test_size=0.2,random_state=42)"
      ],
      "metadata": {
        "id": "EFQu1MWknOTl"
      },
      "execution_count": 58,
      "outputs": []
    },
    {
      "cell_type": "code",
      "source": [
        "from sklearn.tree import DecisionTreeClassifier"
      ],
      "metadata": {
        "id": "HaKRaM6nnQU9"
      },
      "execution_count": 59,
      "outputs": []
    },
    {
      "cell_type": "code",
      "source": [
        "dt=DecisionTreeClassifier()"
      ],
      "metadata": {
        "id": "hUzTmz78nVRy"
      },
      "execution_count": 60,
      "outputs": []
    },
    {
      "cell_type": "code",
      "source": [
        "dt=dt.fit(x_train,y_train)"
      ],
      "metadata": {
        "id": "S7bxad8Rnb7Z"
      },
      "execution_count": 61,
      "outputs": []
    },
    {
      "cell_type": "code",
      "source": [
        "dt_y_predict=dt.predict(x_test)"
      ],
      "metadata": {
        "id": "dwRAUGXlnlnW"
      },
      "execution_count": 62,
      "outputs": []
    },
    {
      "cell_type": "code",
      "source": [
        "confusion_matrix(y_test,dt_y_predict)"
      ],
      "metadata": {
        "colab": {
          "base_uri": "https://localhost:8080/"
        },
        "id": "i2e-Dtian86m",
        "outputId": "fc2c0802-0cb3-4778-bc05-a1e1c3df227b"
      },
      "execution_count": 63,
      "outputs": [
        {
          "output_type": "execute_result",
          "data": {
            "text/plain": [
              "array([[22914,   170],\n",
              "       [  126,     2]])"
            ]
          },
          "metadata": {},
          "execution_count": 63
        }
      ]
    },
    {
      "cell_type": "code",
      "source": [
        "accuracy_score(y_test,dt_y_predict)"
      ],
      "metadata": {
        "colab": {
          "base_uri": "https://localhost:8080/"
        },
        "id": "EU7qohIsoHMF",
        "outputId": "e326ef07-544d-4e08-93bf-16c2e5f4994d"
      },
      "execution_count": 64,
      "outputs": [
        {
          "output_type": "execute_result",
          "data": {
            "text/plain": [
              "0.987247975185249"
            ]
          },
          "metadata": {},
          "execution_count": 64
        }
      ]
    },
    {
      "cell_type": "code",
      "source": [
        "precision_score(y_test,dt_y_predict)"
      ],
      "metadata": {
        "colab": {
          "base_uri": "https://localhost:8080/"
        },
        "id": "TiiPuDv7oOpr",
        "outputId": "85588a60-7db5-40a0-db7f-a824daf59453"
      },
      "execution_count": 65,
      "outputs": [
        {
          "output_type": "execute_result",
          "data": {
            "text/plain": [
              "0.011627906976744186"
            ]
          },
          "metadata": {},
          "execution_count": 65
        }
      ]
    },
    {
      "cell_type": "code",
      "source": [
        "recall_score(y_test,dt_y_predict)"
      ],
      "metadata": {
        "colab": {
          "base_uri": "https://localhost:8080/"
        },
        "id": "0pIpJFqIoZpI",
        "outputId": "4b84aa22-3bb9-43b7-e37d-6a5db2e0e707"
      },
      "execution_count": 66,
      "outputs": [
        {
          "output_type": "execute_result",
          "data": {
            "text/plain": [
              "0.015625"
            ]
          },
          "metadata": {},
          "execution_count": 66
        }
      ]
    },
    {
      "cell_type": "code",
      "source": [
        "# Conclusion Decision tree classification has less accuracy "
      ],
      "metadata": {
        "id": "CZYe5G18okYw"
      },
      "execution_count": null,
      "outputs": []
    }
  ]
}